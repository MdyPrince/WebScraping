{
 "cells": [
  {
   "cell_type": "code",
   "execution_count": 23,
   "metadata": {},
   "outputs": [],
   "source": [
    "from bs4 import BeautifulSoup as soup\n",
    "from bs4 import BeautifulSoup\n",
    "from selenium import webdriver\n",
    "import pandas as pd\n",
    "from urllib.request import urlopen as uReq "
   ]
  },
  {
   "cell_type": "raw",
   "metadata": {},
   "source": [
    "# Web Scraping\n",
    "# get Mobile name , Its Price and its discount from a web url\n"
   ]
  },
  {
   "cell_type": "code",
   "execution_count": 121,
   "metadata": {},
   "outputs": [
    {
     "name": "stdout",
     "output_type": "stream",
     "text": [
      "24\n",
      "115\n",
      "20\n"
     ]
    }
   ],
   "source": [
    "my_url = \"https://www.amazon.in/b?node=16382860031&pf_rd_p=e82fcbfa-d5c9-4934-a4b3-189240421220&pf_rd_r=58J4S469JCB1002RMSH4\"\n",
    "uClient = uReq(my_url)\n",
    "html_page  = uClient.read()\n",
    "uClient.close()\n",
    "\n",
    "\n",
    "containers = bs_obj.findAll(\"div\",{\"class\":\"s-item-container\"})\n",
    " \n",
    "#print((container[0]))\n",
    "container = containers[0]\n",
    "\n",
    "#name = bs_obj.findAll(\"h2\",{\"a-size-base s-inline s-access-title a-text-normal\"})\n",
    "#price = bs_obj.findAll(\"span\",{\"class\":\"a-size-small a-color-secondary a-text-strike\"})bold\n",
    "#discount = bs_obj.findAll(\"span\",{\"class\":\"a-size-small a-color-price\"})\n",
    " \n",
    "#print(len(name))\n",
    "#print(len(price))\n",
    "#print(len(discount))\n",
    "\n",
    "ResultFile=\"ObjectInfo.csv\"\n",
    "f=open(ResultFile,'w')\n",
    "header = \"name,price,discount\\n\"\n",
    "f.write(header)\n",
    "\n",
    "for container in containers:\n",
    "    name = container.findAll(\"h2\",{\"a-size-base s-inline s-access-title a-text-normal\"})\n",
    "    price = container.findAll(\"span\",{\"class\":\"a-size-small a-color-secondary a-text-strike\"})\n",
    "    discount = bs_obj.findAll(\"span\",{\"class\":\"a-size-small a-color-price\"})\n",
    "    if(len(name)):\n",
    "        nm=name[0].text.split(\",\")\n",
    "        f.write(nm[0]+\")\")\n",
    "    f.write(',')\n",
    "    if(len(price)):\n",
    "        pr = price[0].text.split(\",\")\n",
    "        f.write(pr[0]+pr[1])\n",
    "    f.write(',')\n",
    "    if(len(discount)):\n",
    "        pr = discount[0].text.split(\" \")\n",
    "        pr[0] = pr[0].replace(\",\",\"\")\n",
    "        #print(pr[0])\n",
    "        f.write(pr[0])\n",
    "    f.write('\\n')\n",
    "\n",
    "f.close()\n",
    " "
   ]
  },
  {
   "cell_type": "code",
   "execution_count": null,
   "metadata": {},
   "outputs": [],
   "source": []
  },
  {
   "cell_type": "code",
   "execution_count": null,
   "metadata": {},
   "outputs": [],
   "source": []
  }
 ],
 "metadata": {
  "kernelspec": {
   "display_name": "Python 3",
   "language": "python",
   "name": "python3"
  },
  "language_info": {
   "codemirror_mode": {
    "name": "ipython",
    "version": 3
   },
   "file_extension": ".py",
   "mimetype": "text/x-python",
   "name": "python",
   "nbconvert_exporter": "python",
   "pygments_lexer": "ipython3",
   "version": "3.6.3"
  }
 },
 "nbformat": 4,
 "nbformat_minor": 2
}
